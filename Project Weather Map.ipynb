{
 "cells": [
  {
   "cell_type": "code",
   "execution_count": 7,
   "id": "4bc454ad-a75b-4734-8edd-2d850f5e5b35",
   "metadata": {},
   "outputs": [],
   "source": [
    "import tkinter as tk\n",
    "import requests\n",
    "def get_weather():\n",
    "    city = city_entry.get()\n",
    "    api_key = \"f756db0dcce9434670c4cdd551d4c4bd\"\n",
    "    base_url = \"http://api.openweathermap.org/data/2.5/weather\"\n",
    "    url = f\"{base_url}?q={city}&appid={api_key}&units=metric&lang=fa\"\n",
    "\n",
    "    try:\n",
    "        response = requests.get(url)\n",
    "        data = response.json()\n",
    "        if data.get(\"cod\") != 200:\n",
    "            result_label.config(text=\" شهر پیدا نشد.\")\n",
    "        else:\n",
    "            temp = data[\"main\"][\"temp\"]\n",
    "            weather = data[\"weather\"][0][\"description\"]\n",
    "            result_label.config(text=f\" دما: {temp}°C\\n وضعیت: {weather.capitalize()}\")\n",
    "    except Exception as e:\n",
    "        result_label.config(text=\" خطا در دریافت اطلاعات.\")\n",
    "\n",
    "app = tk.Tk()\n",
    "app.title(\"هوا شناسی آنلاین\")\n",
    "app.geometry(\"300x200\")\n",
    "app.resizable(False, False)\n",
    "tk.Label(app, text=\"نام شهر را به انگلیسی وارد کنید:\", font=(\"Arial\", 12)).pack(pady=10)\n",
    "city_entry = tk.Entry(app, font=(\"Arial\", 12), justify='center')\n",
    "city_entry.pack(pady=5)\n",
    "tk.Button(app, text=\"گرفتن وضعیت هوا\", command=get_weather, font=(\"Arial\", 12)).pack(pady=10)\n",
    "result_label = tk.Label(app, text=\"\", font=(\"Arial\", 12), justify='center')\n",
    "result_label.pack(pady=10)\n",
    "app.mainloop()\n",
    "\n"
   ]
  }
 ],
 "metadata": {
  "kernelspec": {
   "display_name": "Python 3 (ipykernel)",
   "language": "python",
   "name": "python3"
  },
  "language_info": {
   "codemirror_mode": {
    "name": "ipython",
    "version": 3
   },
   "file_extension": ".py",
   "mimetype": "text/x-python",
   "name": "python",
   "nbconvert_exporter": "python",
   "pygments_lexer": "ipython3",
   "version": "3.13.1"
  }
 },
 "nbformat": 4,
 "nbformat_minor": 5
}
